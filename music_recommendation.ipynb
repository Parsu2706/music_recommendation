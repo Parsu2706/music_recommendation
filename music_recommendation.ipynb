{
 "cells": [
  {
   "cell_type": "code",
   "execution_count": 1,
   "id": "ea85153b-d7a6-4829-8b12-3794cbf388d4",
   "metadata": {},
   "outputs": [],
   "source": [
    "import pandas as pd"
   ]
  },
  {
   "cell_type": "code",
   "execution_count": 6,
   "id": "23dcdbcb-f699-41ad-95bb-35281d3375e6",
   "metadata": {},
   "outputs": [
    {
     "data": {
      "text/html": [
       "<div>\n",
       "<style scoped>\n",
       "    .dataframe tbody tr th:only-of-type {\n",
       "        vertical-align: middle;\n",
       "    }\n",
       "\n",
       "    .dataframe tbody tr th {\n",
       "        vertical-align: top;\n",
       "    }\n",
       "\n",
       "    .dataframe thead th {\n",
       "        text-align: right;\n",
       "    }\n",
       "</style>\n",
       "<table border=\"1\" class=\"dataframe\">\n",
       "  <thead>\n",
       "    <tr style=\"text-align: right;\">\n",
       "      <th></th>\n",
       "      <th>artist</th>\n",
       "      <th>song</th>\n",
       "      <th>link</th>\n",
       "      <th>text</th>\n",
       "    </tr>\n",
       "  </thead>\n",
       "  <tbody>\n",
       "    <tr>\n",
       "      <th>0</th>\n",
       "      <td>ABBA</td>\n",
       "      <td>Ahe's My Kind Of Girl</td>\n",
       "      <td>/a/abba/ahes+my+kind+of+girl_20598417.html</td>\n",
       "      <td>Look at her face, it's a wonderful face  \\r\\nA...</td>\n",
       "    </tr>\n",
       "    <tr>\n",
       "      <th>1</th>\n",
       "      <td>ABBA</td>\n",
       "      <td>Andante, Andante</td>\n",
       "      <td>/a/abba/andante+andante_20002708.html</td>\n",
       "      <td>Take it easy with me, please  \\r\\nTouch me gen...</td>\n",
       "    </tr>\n",
       "    <tr>\n",
       "      <th>2</th>\n",
       "      <td>ABBA</td>\n",
       "      <td>As Good As New</td>\n",
       "      <td>/a/abba/as+good+as+new_20003033.html</td>\n",
       "      <td>I'll never know why I had to go  \\r\\nWhy I had...</td>\n",
       "    </tr>\n",
       "    <tr>\n",
       "      <th>3</th>\n",
       "      <td>ABBA</td>\n",
       "      <td>Bang</td>\n",
       "      <td>/a/abba/bang_20598415.html</td>\n",
       "      <td>Making somebody happy is a question of give an...</td>\n",
       "    </tr>\n",
       "    <tr>\n",
       "      <th>4</th>\n",
       "      <td>ABBA</td>\n",
       "      <td>Bang-A-Boomerang</td>\n",
       "      <td>/a/abba/bang+a+boomerang_20002668.html</td>\n",
       "      <td>Making somebody happy is a question of give an...</td>\n",
       "    </tr>\n",
       "  </tbody>\n",
       "</table>\n",
       "</div>"
      ],
      "text/plain": [
       "  artist                   song                                        link  \\\n",
       "0   ABBA  Ahe's My Kind Of Girl  /a/abba/ahes+my+kind+of+girl_20598417.html   \n",
       "1   ABBA       Andante, Andante       /a/abba/andante+andante_20002708.html   \n",
       "2   ABBA         As Good As New        /a/abba/as+good+as+new_20003033.html   \n",
       "3   ABBA                   Bang                  /a/abba/bang_20598415.html   \n",
       "4   ABBA       Bang-A-Boomerang      /a/abba/bang+a+boomerang_20002668.html   \n",
       "\n",
       "                                                text  \n",
       "0  Look at her face, it's a wonderful face  \\r\\nA...  \n",
       "1  Take it easy with me, please  \\r\\nTouch me gen...  \n",
       "2  I'll never know why I had to go  \\r\\nWhy I had...  \n",
       "3  Making somebody happy is a question of give an...  \n",
       "4  Making somebody happy is a question of give an...  "
      ]
     },
     "execution_count": 6,
     "metadata": {},
     "output_type": "execute_result"
    }
   ],
   "source": [
    "df = pd.read_csv(\"spotify_millsongdata.csv\")\n",
    "df.head()"
   ]
  },
  {
   "cell_type": "code",
   "execution_count": 3,
   "id": "75be8fba-a731-49a1-a34a-1cdf4e916889",
   "metadata": {},
   "outputs": [
    {
     "name": "stdout",
     "output_type": "stream",
     "text": [
      "<class 'pandas.core.frame.DataFrame'>\n",
      "RangeIndex: 57650 entries, 0 to 57649\n",
      "Data columns (total 4 columns):\n",
      " #   Column  Non-Null Count  Dtype \n",
      "---  ------  --------------  ----- \n",
      " 0   artist  57650 non-null  object\n",
      " 1   song    57650 non-null  object\n",
      " 2   link    57650 non-null  object\n",
      " 3   text    57650 non-null  object\n",
      "dtypes: object(4)\n",
      "memory usage: 1.8+ MB\n"
     ]
    }
   ],
   "source": [
    "df.info()"
   ]
  },
  {
   "cell_type": "code",
   "execution_count": 4,
   "id": "a254d85d-e8cd-460c-b38b-e9fb1adafd6c",
   "metadata": {},
   "outputs": [
    {
     "data": {
      "text/html": [
       "<div>\n",
       "<style scoped>\n",
       "    .dataframe tbody tr th:only-of-type {\n",
       "        vertical-align: middle;\n",
       "    }\n",
       "\n",
       "    .dataframe tbody tr th {\n",
       "        vertical-align: top;\n",
       "    }\n",
       "\n",
       "    .dataframe thead th {\n",
       "        text-align: right;\n",
       "    }\n",
       "</style>\n",
       "<table border=\"1\" class=\"dataframe\">\n",
       "  <thead>\n",
       "    <tr style=\"text-align: right;\">\n",
       "      <th></th>\n",
       "      <th>artist</th>\n",
       "      <th>song</th>\n",
       "      <th>link</th>\n",
       "      <th>text</th>\n",
       "    </tr>\n",
       "  </thead>\n",
       "  <tbody>\n",
       "    <tr>\n",
       "      <th>count</th>\n",
       "      <td>57650</td>\n",
       "      <td>57650</td>\n",
       "      <td>57650</td>\n",
       "      <td>57650</td>\n",
       "    </tr>\n",
       "    <tr>\n",
       "      <th>unique</th>\n",
       "      <td>643</td>\n",
       "      <td>44824</td>\n",
       "      <td>57650</td>\n",
       "      <td>57494</td>\n",
       "    </tr>\n",
       "    <tr>\n",
       "      <th>top</th>\n",
       "      <td>Donna Summer</td>\n",
       "      <td>Have Yourself A Merry Little Christmas</td>\n",
       "      <td>/z/zwan/heartsong_20148991.html</td>\n",
       "      <td>I just came back from a lovely trip along the ...</td>\n",
       "    </tr>\n",
       "    <tr>\n",
       "      <th>freq</th>\n",
       "      <td>191</td>\n",
       "      <td>35</td>\n",
       "      <td>1</td>\n",
       "      <td>6</td>\n",
       "    </tr>\n",
       "  </tbody>\n",
       "</table>\n",
       "</div>"
      ],
      "text/plain": [
       "              artist                                    song  \\\n",
       "count          57650                                   57650   \n",
       "unique           643                                   44824   \n",
       "top     Donna Summer  Have Yourself A Merry Little Christmas   \n",
       "freq             191                                      35   \n",
       "\n",
       "                                   link  \\\n",
       "count                             57650   \n",
       "unique                            57650   \n",
       "top     /z/zwan/heartsong_20148991.html   \n",
       "freq                                  1   \n",
       "\n",
       "                                                     text  \n",
       "count                                               57650  \n",
       "unique                                              57494  \n",
       "top     I just came back from a lovely trip along the ...  \n",
       "freq                                                    6  "
      ]
     },
     "execution_count": 4,
     "metadata": {},
     "output_type": "execute_result"
    }
   ],
   "source": [
    "df.describe()"
   ]
  },
  {
   "cell_type": "code",
   "execution_count": 5,
   "id": "8c3b9ad8-7107-4ab3-a41f-e3fed9eac789",
   "metadata": {},
   "outputs": [],
   "source": [
    "df.drop_duplicates(inplace = True)"
   ]
  },
  {
   "cell_type": "code",
   "execution_count": 7,
   "id": "2df2b548-12a0-4e8a-af2a-f2bfdd689204",
   "metadata": {},
   "outputs": [],
   "source": [
    "df = df.sample(5000).drop(['link'] , axis = 1).reset_index(drop = True)"
   ]
  },
  {
   "cell_type": "code",
   "execution_count": 8,
   "id": "214cfc55-76da-4f28-976b-81be51761bd0",
   "metadata": {},
   "outputs": [
    {
     "data": {
      "text/html": [
       "<div>\n",
       "<style scoped>\n",
       "    .dataframe tbody tr th:only-of-type {\n",
       "        vertical-align: middle;\n",
       "    }\n",
       "\n",
       "    .dataframe tbody tr th {\n",
       "        vertical-align: top;\n",
       "    }\n",
       "\n",
       "    .dataframe thead th {\n",
       "        text-align: right;\n",
       "    }\n",
       "</style>\n",
       "<table border=\"1\" class=\"dataframe\">\n",
       "  <thead>\n",
       "    <tr style=\"text-align: right;\">\n",
       "      <th></th>\n",
       "      <th>artist</th>\n",
       "      <th>song</th>\n",
       "      <th>text</th>\n",
       "    </tr>\n",
       "  </thead>\n",
       "  <tbody>\n",
       "    <tr>\n",
       "      <th>0</th>\n",
       "      <td>INXS</td>\n",
       "      <td>Original Sin</td>\n",
       "      <td>You might know of the original sin  \\r\\nAnd yo...</td>\n",
       "    </tr>\n",
       "    <tr>\n",
       "      <th>1</th>\n",
       "      <td>Elton John</td>\n",
       "      <td>It's Getting Dark In Here</td>\n",
       "      <td>It's getting dark in here  \\r\\nDon't want to l...</td>\n",
       "    </tr>\n",
       "    <tr>\n",
       "      <th>2</th>\n",
       "      <td>Depeche Mode</td>\n",
       "      <td>Always</td>\n",
       "      <td>The well is dry and the streams runs shallow  ...</td>\n",
       "    </tr>\n",
       "    <tr>\n",
       "      <th>3</th>\n",
       "      <td>Kris Kristofferson</td>\n",
       "      <td>From The Bottle To The Bottom</td>\n",
       "      <td>You ask me if I'm happy now  \\r\\nThat's good a...</td>\n",
       "    </tr>\n",
       "    <tr>\n",
       "      <th>4</th>\n",
       "      <td>Neil Diamond</td>\n",
       "      <td>Blue Destiny (Version One)</td>\n",
       "      <td>How can I love  \\r\\nIf my love doesn't love on...</td>\n",
       "    </tr>\n",
       "    <tr>\n",
       "      <th>...</th>\n",
       "      <td>...</td>\n",
       "      <td>...</td>\n",
       "      <td>...</td>\n",
       "    </tr>\n",
       "    <tr>\n",
       "      <th>4995</th>\n",
       "      <td>Warren Zevon</td>\n",
       "      <td>Bad Karma</td>\n",
       "      <td>Was it something I did  \\r\\nIn another life?  ...</td>\n",
       "    </tr>\n",
       "    <tr>\n",
       "      <th>4996</th>\n",
       "      <td>Widespread Panic</td>\n",
       "      <td>Use Me</td>\n",
       "      <td>My friends  \\r\\nFeel its their appointed duty ...</td>\n",
       "    </tr>\n",
       "    <tr>\n",
       "      <th>4997</th>\n",
       "      <td>Hank Williams Jr.</td>\n",
       "      <td>Tee Tot Song</td>\n",
       "      <td>Every mornin' ole Tee Tot come 'round  \\r\\nSet...</td>\n",
       "    </tr>\n",
       "    <tr>\n",
       "      <th>4998</th>\n",
       "      <td>John Denver</td>\n",
       "      <td>Love Again</td>\n",
       "      <td>I didn't think it could happen again  \\r\\nI'm ...</td>\n",
       "    </tr>\n",
       "    <tr>\n",
       "      <th>4999</th>\n",
       "      <td>Gordon Lightfoot</td>\n",
       "      <td>Alberta Bound</td>\n",
       "      <td>Oh the prairie lights are burnin' bright  \\r\\n...</td>\n",
       "    </tr>\n",
       "  </tbody>\n",
       "</table>\n",
       "<p>5000 rows × 3 columns</p>\n",
       "</div>"
      ],
      "text/plain": [
       "                  artist                           song  \\\n",
       "0                   INXS                   Original Sin   \n",
       "1             Elton John      It's Getting Dark In Here   \n",
       "2           Depeche Mode                         Always   \n",
       "3     Kris Kristofferson  From The Bottle To The Bottom   \n",
       "4           Neil Diamond     Blue Destiny (Version One)   \n",
       "...                  ...                            ...   \n",
       "4995        Warren Zevon                      Bad Karma   \n",
       "4996    Widespread Panic                         Use Me   \n",
       "4997   Hank Williams Jr.                   Tee Tot Song   \n",
       "4998         John Denver                     Love Again   \n",
       "4999    Gordon Lightfoot                  Alberta Bound   \n",
       "\n",
       "                                                   text  \n",
       "0     You might know of the original sin  \\r\\nAnd yo...  \n",
       "1     It's getting dark in here  \\r\\nDon't want to l...  \n",
       "2     The well is dry and the streams runs shallow  ...  \n",
       "3     You ask me if I'm happy now  \\r\\nThat's good a...  \n",
       "4     How can I love  \\r\\nIf my love doesn't love on...  \n",
       "...                                                 ...  \n",
       "4995  Was it something I did  \\r\\nIn another life?  ...  \n",
       "4996  My friends  \\r\\nFeel its their appointed duty ...  \n",
       "4997  Every mornin' ole Tee Tot come 'round  \\r\\nSet...  \n",
       "4998  I didn't think it could happen again  \\r\\nI'm ...  \n",
       "4999  Oh the prairie lights are burnin' bright  \\r\\n...  \n",
       "\n",
       "[5000 rows x 3 columns]"
      ]
     },
     "execution_count": 8,
     "metadata": {},
     "output_type": "execute_result"
    }
   ],
   "source": [
    "df"
   ]
  },
  {
   "cell_type": "code",
   "execution_count": 9,
   "id": "31c4f920-7b1a-465b-bbd3-2751c0863e63",
   "metadata": {},
   "outputs": [
    {
     "data": {
      "text/plain": [
       "(5000, 3)"
      ]
     },
     "execution_count": 9,
     "metadata": {},
     "output_type": "execute_result"
    }
   ],
   "source": [
    "df.shape"
   ]
  },
  {
   "cell_type": "code",
   "execution_count": 10,
   "id": "8a936e39-c965-4887-bf60-5d297e931740",
   "metadata": {},
   "outputs": [],
   "source": [
    "# cleaning text column \n",
    "\n",
    "df['text'] = df['text'].str.lower().replace(r'^a-zA-Z0-9' , ' ').replace(r'^\\n' , \" \" , regex = True)"
   ]
  },
  {
   "cell_type": "code",
   "execution_count": 11,
   "id": "ac8c1836-617b-425a-840e-1c7669eafa80",
   "metadata": {},
   "outputs": [
    {
     "data": {
      "text/plain": [
       "0       you might know of the original sin  \\r\\nand yo...\n",
       "1       it's getting dark in here  \\r\\ndon't want to l...\n",
       "2       the well is dry and the streams runs shallow  ...\n",
       "3       you ask me if i'm happy now  \\r\\nthat's good a...\n",
       "4       how can i love  \\r\\nif my love doesn't love on...\n",
       "                              ...                        \n",
       "4995    was it something i did  \\r\\nin another life?  ...\n",
       "4996    my friends  \\r\\nfeel its their appointed duty ...\n",
       "4997    every mornin' ole tee tot come 'round  \\r\\nset...\n",
       "4998    i didn't think it could happen again  \\r\\ni'm ...\n",
       "4999    oh the prairie lights are burnin' bright  \\r\\n...\n",
       "Name: text, Length: 5000, dtype: object"
      ]
     },
     "execution_count": 11,
     "metadata": {},
     "output_type": "execute_result"
    }
   ],
   "source": [
    "df['text']"
   ]
  },
  {
   "cell_type": "code",
   "execution_count": 27,
   "id": "9d27add4-34b0-4b79-a79a-2f4adcba440f",
   "metadata": {},
   "outputs": [],
   "source": [
    "import nltk \n",
    "\n",
    "from nltk.stem import WordNetLemmatizer\n",
    "from nltk.corpus import stopwords\n",
    "from nltk.stem import PorterStemmer\n",
    "\n",
    "stems = PorterStemmer()\n",
    "\n",
    "lemms = WordNetLemmatizer()"
   ]
  },
  {
   "cell_type": "code",
   "execution_count": 25,
   "id": "23f3b426-1727-4835-9745-974a47249d35",
   "metadata": {},
   "outputs": [],
   "source": [
    "def token(txt): \n",
    "    for i in txt: \n",
    "        token = nltk.word_tokenize(txt)\n",
    "        a = [lemms.lemmatize(word) for word in token]\n",
    "        return ' '.join(a)"
   ]
  },
  {
   "cell_type": "code",
   "execution_count": 26,
   "id": "8ed14a96-2b16-42d2-9b74-167f03488c4a",
   "metadata": {},
   "outputs": [
    {
     "data": {
      "text/plain": [
       "'you are beautiful , beauty'"
      ]
     },
     "execution_count": 26,
     "metadata": {},
     "output_type": "execute_result"
    }
   ],
   "source": [
    "token(\"you are beautiful , beauty\")"
   ]
  },
  {
   "cell_type": "code",
   "execution_count": 31,
   "id": "3c6d229d-09b2-46ce-a468-e2a9228078fe",
   "metadata": {},
   "outputs": [
    {
     "data": {
      "text/plain": [
       "0       you might know of the origin sin and you might...\n",
       "1       it 's get dark in here do n't want to leav sha...\n",
       "2       the well is dri and the stream run shallow the...\n",
       "3       you ask me if i 'm happi now that 's good as a...\n",
       "4       how can i love if my love doe n't love onli me...\n",
       "                              ...                        \n",
       "4995    wa it someth i did in anoth life ? i tri and t...\n",
       "4996    my friend feel it their appoint duti they keep...\n",
       "4997    everi mornin ' ole tee tot come 'round settin'...\n",
       "4998    i did n't think it could happen again i 'm jus...\n",
       "4999    oh the prairi light are burnin ' bright the ch...\n",
       "Name: text, Length: 5000, dtype: object"
      ]
     },
     "execution_count": 31,
     "metadata": {},
     "output_type": "execute_result"
    }
   ],
   "source": [
    "df['text'].apply(lambda x : token(x))"
   ]
  },
  {
   "cell_type": "code",
   "execution_count": 33,
   "id": "54c21596-6a0b-4f70-b164-f92cf5c3ad77",
   "metadata": {},
   "outputs": [],
   "source": [
    "from sklearn.feature_extraction.text import TfidfVectorizer\n",
    "\n",
    "idf = TfidfVectorizer(analyzer='word', stop_words='english')\n",
    "matrix = idf.fit_transform(df['text'])"
   ]
  },
  {
   "cell_type": "code",
   "execution_count": 34,
   "id": "16d51010-5260-40d9-85c4-5d8ea73fe570",
   "metadata": {},
   "outputs": [],
   "source": [
    "from sklearn.metrics.pairwise import cosine_similarity\n",
    "\n",
    "similarity = cosine_similarity(matrix)"
   ]
  },
  {
   "cell_type": "code",
   "execution_count": 35,
   "id": "3bbc3205-4f47-4f13-b73a-5ba1751884ab",
   "metadata": {},
   "outputs": [
    {
     "data": {
      "text/plain": [
       "np.int64(4995)"
      ]
     },
     "execution_count": 35,
     "metadata": {},
     "output_type": "execute_result"
    }
   ],
   "source": [
    "df[df['song'] ==\"Bad Karma\"].index[0]"
   ]
  },
  {
   "cell_type": "code",
   "execution_count": 45,
   "id": "d6b7a467-5f8d-41ef-9ccf-876613492076",
   "metadata": {},
   "outputs": [],
   "source": [
    "def recommend(song_name): \n",
    "    idx = df[df['song'] ==song_name].index[0]\n",
    "    distance = sorted(list(enumerate(similarity[idx])),reverse = True , key = lambda x:x[1])\n",
    "\n",
    "    song = []\n",
    "\n",
    "    for song_id in distance[1:5]:\n",
    "        song.append(df.iloc[song_id[0]].song)\n",
    "    return song"
   ]
  },
  {
   "cell_type": "code",
   "execution_count": 48,
   "id": "5b02db21-3960-46a3-8ca1-4f384a16c89b",
   "metadata": {},
   "outputs": [
    {
     "data": {
      "text/plain": [
       "['Red Lenses', 'Red Lights', 'Red', 'Red Rag Top']"
      ]
     },
     "execution_count": 48,
     "metadata": {},
     "output_type": "execute_result"
    }
   ],
   "source": [
    "recommend('Roxanne')"
   ]
  },
  {
   "cell_type": "code",
   "execution_count": 50,
   "id": "09258e7b-ac57-47bd-8a41-fe79af472799",
   "metadata": {},
   "outputs": [],
   "source": [
    "import pickle\n",
    "\n",
    "pickle.dump(similarity , open(\"similarity\" , 'wb'))\n",
    "\n"
   ]
  },
  {
   "cell_type": "code",
   "execution_count": null,
   "id": "983a53ff-7250-4337-a6e7-a65b1bc19dd0",
   "metadata": {},
   "outputs": [],
   "source": []
  }
 ],
 "metadata": {
  "kernelspec": {
   "display_name": "Python 3 (ipykernel)",
   "language": "python",
   "name": "python3"
  },
  "language_info": {
   "codemirror_mode": {
    "name": "ipython",
    "version": 3
   },
   "file_extension": ".py",
   "mimetype": "text/x-python",
   "name": "python",
   "nbconvert_exporter": "python",
   "pygments_lexer": "ipython3",
   "version": "3.13.1"
  }
 },
 "nbformat": 4,
 "nbformat_minor": 5
}
